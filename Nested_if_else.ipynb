{
  "nbformat": 4,
  "nbformat_minor": 0,
  "metadata": {
    "colab": {
      "provenance": [],
      "authorship_tag": "ABX9TyNKB8xL+T9HOYLKw49gu5b6",
      "include_colab_link": true
    },
    "kernelspec": {
      "name": "python3",
      "display_name": "Python 3"
    },
    "language_info": {
      "name": "python"
    }
  },
  "cells": [
    {
      "cell_type": "markdown",
      "metadata": {
        "id": "view-in-github",
        "colab_type": "text"
      },
      "source": [
        "<a href=\"https://colab.research.google.com/github/johndelorosco/CPEN-21A-PLD-1-2/blob/main/Nested_if_else.ipynb\" target=\"_parent\"><img src=\"https://colab.research.google.com/assets/colab-badge.svg\" alt=\"Open In Colab\"/></a>"
      ]
    },
    {
      "cell_type": "markdown",
      "source": [
        "Nested if else"
      ],
      "metadata": {
        "id": "VCy_o2bhbiVV"
      }
    },
    {
      "cell_type": "code",
      "source": [
        "x = 41\n",
        "if x>10:\n",
        "  print(\"above ten\")\n",
        "  if x>20:\n",
        "    print(\"above twenty\")\n",
        "  else:\n",
        "    print(\"below twenty\")\n",
        "    if x>30:\n",
        "      print(\"above thirty\")\n",
        "    else:\n",
        "      print(\"below thirty\")\n",
        "      if x>40:\n",
        "        print(\"above forty\")\n",
        "      else:\n",
        "        print(\"below forty\")\n",
        "        if x>50:\n",
        "          print(\"above fifty\")\n",
        "        else:\n",
        "          print(\"below fifty\")  \n",
        "else:\n",
        "  print(\"not above ten\")\n"
      ],
      "metadata": {
        "colab": {
          "base_uri": "https://localhost:8080/"
        },
        "id": "hTnucwnCcmd-",
        "outputId": "69d821fc-8c01-4352-947c-16ffb682e4ed"
      },
      "execution_count": null,
      "outputs": [
        {
          "output_type": "stream",
          "name": "stdout",
          "text": [
            "above ten\n",
            "above twenty\n"
          ]
        }
      ]
    },
    {
      "cell_type": "code",
      "source": [
        "x = 41\n",
        "if x>10:\n",
        "  print(\"above ten\")\n",
        "if x>20:\n",
        "  print(\"above twenty\")\n",
        "else:\n",
        "  print(\"below twenty\")\n",
        "if x>30:\n",
        "  print(\"above thirty\")\n",
        "else:\n",
        "  print(\"below thirty\")\n",
        "if x>40:\n",
        "  print(\"above forty\")\n",
        "else:\n",
        "  print(\"below forty\")\n",
        "if x<50:\n",
        "  print(\"above fifty\")\n",
        "else:\n",
        "  print(\"below fifty\")  \n",
        "if x<10:\n",
        "  print(\"not above ten\")\n"
      ],
      "metadata": {
        "colab": {
          "base_uri": "https://localhost:8080/"
        },
        "id": "kq98yUTTdi49",
        "outputId": "a9534f07-f390-44fb-c368-0aad08260991"
      },
      "execution_count": null,
      "outputs": [
        {
          "output_type": "stream",
          "name": "stdout",
          "text": [
            "above ten\n",
            "above twenty\n",
            "above thirty\n",
            "above forty\n",
            "above fifty\n"
          ]
        }
      ]
    },
    {
      "cell_type": "code",
      "source": [
        "print(\"Enter a number:\")\n",
        "x = int(input())\n",
        "if x>10:\n",
        "  print(\"above 10\")\n",
        "  if x<20:\n",
        "    print(\"below 20\")\n",
        "  else:\n",
        "    print(\"above 20\")\n",
        "    if x<30:\n",
        "      print(\"below 30\")\n",
        "    else:\n",
        "      print(\"above 30\")\n",
        "      if x<40:\n",
        "        print(\"below 40\")\n",
        "      else:\n",
        "        print(\"above 40\")\n",
        "        if x<50:\n",
        "          print(\"below 50\")\n",
        "        else:\n",
        "          print(\"above 50\")\n"
      ],
      "metadata": {
        "colab": {
          "base_uri": "https://localhost:8080/"
        },
        "id": "82Gi6Y1QelVb",
        "outputId": "b8bb0e5a-8f4e-46c5-cb74-1e6176b3819d"
      },
      "execution_count": null,
      "outputs": [
        {
          "output_type": "stream",
          "name": "stdout",
          "text": [
            "Enter a number:\n",
            "45\n",
            "above 10\n",
            "above 20\n",
            "above 30\n",
            "above 40\n",
            "below 50\n"
          ]
        }
      ]
    },
    {
      "cell_type": "markdown",
      "source": [
        "##Example 1"
      ],
      "metadata": {
        "id": "5xnfOtUlbQPp"
      }
    },
    {
      "cell_type": "code",
      "source": [
        "print(\"Enter a number:\")\n",
        "x = int(input())\n",
        "\n",
        "if x >= 18:\n",
        "  print(\"Qualified to vote\")\n",
        "else:\n",
        "  print(\"Not Qualified to vote\")"
      ],
      "metadata": {
        "colab": {
          "base_uri": "https://localhost:8080/"
        },
        "id": "adsUo2UTZRy8",
        "outputId": "7b4c7e87-7acd-4dca-b8c7-5863ec90b45a"
      },
      "execution_count": 2,
      "outputs": [
        {
          "output_type": "stream",
          "name": "stdout",
          "text": [
            "Enter a number:\n",
            "19\n",
            "Qualified to vote\n"
          ]
        }
      ]
    },
    {
      "cell_type": "markdown",
      "source": [
        "##Example 2"
      ],
      "metadata": {
        "id": "2dwYqbVJaomH"
      }
    },
    {
      "cell_type": "code",
      "source": [
        "print(\"Enter a number:\")\n",
        "x = int(input())\n",
        "\n",
        "if x > 0:\n",
        "  print(\"POSITIVE\")\n",
        "elif x == 0:\n",
        "  print(\"ZERO\")\n",
        "else:\n",
        "  print(\"NEGATIVE\")"
      ],
      "metadata": {
        "colab": {
          "base_uri": "https://localhost:8080/"
        },
        "id": "8Pn7niZta7uX",
        "outputId": "e89e95f3-067d-4935-a0ca-5896436e0655"
      },
      "execution_count": 6,
      "outputs": [
        {
          "output_type": "stream",
          "name": "stdout",
          "text": [
            "Enter a number:\n",
            "-108\n",
            "NEGATIVE\n"
          ]
        }
      ]
    },
    {
      "cell_type": "markdown",
      "source": [
        "##Example 3"
      ],
      "metadata": {
        "id": "_X7ID-txcAZr"
      }
    },
    {
      "cell_type": "code",
      "source": [
        "print(\"Enter a number:\")\n",
        "x = int(input())\n",
        "\n",
        "if x >= 75:\n",
        "  print(\"Passed\")\n",
        "if x == 74:\n",
        "  print(\"Remedial\")\n",
        "if x < 74 and x == 0:\n",
        "  print(\"Failed\")\n",
        "\n",
        "if x < 0:\n",
        "  print(\"Input Not Accepted\")"
      ],
      "metadata": {
        "colab": {
          "base_uri": "https://localhost:8080/"
        },
        "id": "ID5af_-FcC3B",
        "outputId": "6b699272-f4cb-4e8d-ffbb-5c9dff96c9a0"
      },
      "execution_count": 16,
      "outputs": [
        {
          "output_type": "stream",
          "name": "stdout",
          "text": [
            "Enter a number:\n",
            "-9\n",
            "Input Not Accepted\n"
          ]
        }
      ]
    }
  ]
}