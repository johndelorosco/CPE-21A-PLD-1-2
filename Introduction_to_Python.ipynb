{
  "nbformat": 4,
  "nbformat_minor": 0,
  "metadata": {
    "colab": {
      "provenance": [],
      "authorship_tag": "ABX9TyO/znWBu/1MV+9tmiSmwuZw",
      "include_colab_link": true
    },
    "kernelspec": {
      "name": "python3",
      "display_name": "Python 3"
    },
    "language_info": {
      "name": "python"
    }
  },
  "cells": [
    {
      "cell_type": "markdown",
      "metadata": {
        "id": "view-in-github",
        "colab_type": "text"
      },
      "source": [
        "<a href=\"https://colab.research.google.com/github/johndelorosco/CPEN-21A-PLD-1-2/blob/main/Introduction_to_Python.ipynb\" target=\"_parent\"><img src=\"https://colab.research.google.com/assets/colab-badge.svg\" alt=\"Open In Colab\"/></a>"
      ]
    },
    {
      "cell_type": "markdown",
      "source": [
        "##Indentation"
      ],
      "metadata": {
        "id": "d2_x_QyPblAp"
      }
    },
    {
      "cell_type": "code",
      "source": [
        "if 5>3:\n",
        "  print(\"5 is greater than 3\")"
      ],
      "metadata": {
        "colab": {
          "base_uri": "https://localhost:8080/"
        },
        "id": "YDy4YuLjbx2F",
        "outputId": "c8f730e6-fc9b-49d0-fa25-1f4cf0afeb0d"
      },
      "execution_count": 14,
      "outputs": [
        {
          "output_type": "stream",
          "name": "stdout",
          "text": [
            "5 is greater than 3\n"
          ]
        }
      ]
    },
    {
      "cell_type": "markdown",
      "source": [
        "Variable Declaration"
      ],
      "metadata": {
        "id": "PUNEDLVYdEsI"
      }
    },
    {
      "cell_type": "code",
      "source": [
        "#variable with single value\n",
        "\n",
        "x=5\n",
        "y=3\n",
        "if x>y:\n",
        "  print(\"x is greater than y\")\n",
        "else:\n",
        "  print(\"y is greater than x\")\n",
        "\n",
        "\n",
        "#variable with multiple values\n",
        "\n",
        "a,b = 1,2\n",
        "print(\"The value of a is\",a)\n",
        "print(\"The value of a is\",b)\n",
        "\n",
        "#multiple variables with single value\n",
        "\n",
        "p = q = r = 'Johndel'\n",
        "print(p)\n",
        "print(q)\n",
        "print(r)"
      ],
      "metadata": {
        "colab": {
          "base_uri": "https://localhost:8080/"
        },
        "id": "_xKYAvM_dKFX",
        "outputId": "21f955e2-1859-4651-f7fa-a549951cd92a"
      },
      "execution_count": 36,
      "outputs": [
        {
          "output_type": "stream",
          "name": "stdout",
          "text": [
            "x is greater than y\n",
            "The value of a is 1\n",
            "The value of a is 2\n",
            "Johndel\n",
            "Johndel\n",
            "Johndel\n"
          ]
        }
      ]
    },
    {
      "cell_type": "markdown",
      "source": [
        "Output Variable"
      ],
      "metadata": {
        "id": "m4RaCqW2hwFP"
      }
    },
    {
      "cell_type": "code",
      "source": [
        "o = 'is enjoying'\n",
        "print('Python programming'+ \" \" + o)"
      ],
      "metadata": {
        "colab": {
          "base_uri": "https://localhost:8080/"
        },
        "id": "9xdKvuCUhygz",
        "outputId": "76cdd1b7-cae6-4c9c-c99e-ef7a6877cf5c"
      },
      "execution_count": 40,
      "outputs": [
        {
          "output_type": "stream",
          "name": "stdout",
          "text": [
            "Python programming is enjoying\n"
          ]
        }
      ]
    },
    {
      "cell_type": "markdown",
      "source": [
        "#Casting and Type() Function"
      ],
      "metadata": {
        "id": "zAPLBWGGe1vD"
      }
    },
    {
      "cell_type": "code",
      "source": [
        "f = int(4)   #integer\n",
        "g = float(4) #decimal\n",
        "\n",
        "print(f)\n",
        "print(g)\n",
        "\n",
        "print(type(f))\n",
        "print(type(g))"
      ],
      "metadata": {
        "colab": {
          "base_uri": "https://localhost:8080/"
        },
        "id": "3liYh59he9Jn",
        "outputId": "91583c7b-7ca1-43bd-a08b-2a6701fdc4e3"
      },
      "execution_count": 25,
      "outputs": [
        {
          "output_type": "stream",
          "name": "stdout",
          "text": [
            "4\n",
            "4.0\n",
            "<class 'int'>\n",
            "<class 'float'>\n"
          ]
        }
      ]
    },
    {
      "cell_type": "markdown",
      "source": [
        "Double quote or single quoute"
      ],
      "metadata": {
        "id": "ZQzedHbbfkY0"
      }
    },
    {
      "cell_type": "code",
      "source": [
        "name = \"Johndel\"\n",
        "name1 = 'Johndel'\n",
        "\n",
        "print(name)\n",
        "print(name1)"
      ],
      "metadata": {
        "colab": {
          "base_uri": "https://localhost:8080/"
        },
        "id": "lRDaJTNTfqdI",
        "outputId": "9971734e-4cdc-425e-f1ad-4927eff221ef"
      },
      "execution_count": 28,
      "outputs": [
        {
          "output_type": "stream",
          "name": "stdout",
          "text": [
            "Johndel\n",
            "Johndel\n"
          ]
        }
      ]
    },
    {
      "cell_type": "markdown",
      "source": [
        "Case Sensitive"
      ],
      "metadata": {
        "id": "ibzTYGJWgXg7"
      }
    },
    {
      "cell_type": "code",
      "source": [
        "a = 'Ana'\n",
        "print(a)"
      ],
      "metadata": {
        "colab": {
          "base_uri": "https://localhost:8080/"
        },
        "id": "0mSpWnPMgaBi",
        "outputId": "25353fca-2718-449f-a206-cb52bece3bb0"
      },
      "execution_count": 34,
      "outputs": [
        {
          "output_type": "stream",
          "name": "stdout",
          "text": [
            "Ana\n"
          ]
        }
      ]
    }
  ]
}