{
  "nbformat": 4,
  "nbformat_minor": 0,
  "metadata": {
    "colab": {
      "provenance": [],
      "authorship_tag": "ABX9TyP/nZhrcBO/kFmVI1c/vjZ/",
      "include_colab_link": true
    },
    "kernelspec": {
      "name": "python3",
      "display_name": "Python 3"
    },
    "language_info": {
      "name": "python"
    }
  },
  "cells": [
    {
      "cell_type": "markdown",
      "metadata": {
        "id": "view-in-github",
        "colab_type": "text"
      },
      "source": [
        "<a href=\"https://colab.research.google.com/github/johndelorosco/CPEN-21A-PLD-1-2/blob/main/Object_Oriented_Programming.ipynb\" target=\"_parent\"><img src=\"https://colab.research.google.com/assets/colab-badge.svg\" alt=\"Open In Colab\"/></a>"
      ]
    },
    {
      "cell_type": "code",
      "execution_count": null,
      "metadata": {
        "id": "6NRDR4re-nAZ"
      },
      "outputs": [],
      "source": [
        "class Car:\n",
        "  def __init__(self, name, color):\n",
        "    self.name=name\n",
        "    self.color=color\n"
      ]
    },
    {
      "cell_type": "code",
      "source": [
        "class Car:\n",
        "  car_type = \"Sedan\"\n",
        "\n",
        "  def __init__(self, name, mileage, speed):\n",
        "    self.name = name\n",
        "    self.mileage = mileage\n",
        "    self.speed = speed\n",
        "\n",
        "  def description(self):\n",
        "    return \"The {self.name} car gives the mileage of {self.mileage}km/l\"\n",
        "\n",
        "  def max_speed(self.speed):\n",
        "    return \"The {self.name} runs at the maximum speed of {speed}km/hr\"\n"
      ],
      "metadata": {
        "colab": {
          "base_uri": "https://localhost:8080/",
          "height": 130
        },
        "id": "dhF8LK82_aPL",
        "outputId": "5ab89eb1-684f-4e3c-9a64-a3b0f774de1a"
      },
      "execution_count": null,
      "outputs": [
        {
          "output_type": "error",
          "ename": "SyntaxError",
          "evalue": "ignored",
          "traceback": [
            "\u001b[0;36m  File \u001b[0;32m\"<ipython-input-9-8878bd474e8e>\"\u001b[0;36m, line \u001b[0;32m12\u001b[0m\n\u001b[0;31m    def max_speed(self.speed):\u001b[0m\n\u001b[0m                      ^\u001b[0m\n\u001b[0;31mSyntaxError\u001b[0m\u001b[0;31m:\u001b[0m invalid syntax\n"
          ]
        }
      ]
    },
    {
      "cell_type": "code",
      "source": [
        "class Person:\n",
        "  def __init__(self, name, age, birthdate):\n",
        "    self.name = name\n",
        "    self.age = age\n",
        "    self.birthdate = birthdate\n",
        "\n",
        "person = Person(\"Johndel\", 18, \"August 02, 2004\")\n",
        "print(\"My name is:\",person.name)\n",
        "print(\"My age is:\",person.age)\n",
        "print(\"My birtdate is:\",person.birthdate)"
      ],
      "metadata": {
        "colab": {
          "base_uri": "https://localhost:8080/"
        },
        "id": "dlmPfTRtBGJb",
        "outputId": "8078ef00-4b88-4dd8-929d-02142bc31918"
      },
      "execution_count": null,
      "outputs": [
        {
          "output_type": "stream",
          "name": "stdout",
          "text": [
            "My name is: Johndel\n",
            "My age is: 18\n",
            "My birtdate is: August 02, 2004\n"
          ]
        }
      ]
    },
    {
      "cell_type": "code",
      "source": [
        "class Person:\n",
        "  def __init__(self, name, age, birthdate):         #object and class constructor\n",
        "    self.name = name\n",
        "    self.age = age\n",
        "    self.birthdate = birthdate\n",
        "\n",
        "  def info(self):\n",
        "    return \"My personal info are all here\"        #method constructor\n",
        "\n",
        "class Student(Person):                            #inheritance\n",
        "  pass\n",
        "\n",
        "\n",
        "person = Person(\"Johndel\", 18, \"August 02,2004\")    #naming object\n",
        "print(person.info())\n",
        "\n",
        "print(\"My name is\",person.name)\n",
        "print(\"My age is\",person.age)\n",
        "print(\"My birtdate is\",person.birthdate)"
      ],
      "metadata": {
        "colab": {
          "base_uri": "https://localhost:8080/"
        },
        "id": "o9h05AIhCp3T",
        "outputId": "1e1e5c7e-8776-48c1-b4f3-1459141507a4"
      },
      "execution_count": null,
      "outputs": [
        {
          "output_type": "stream",
          "name": "stdout",
          "text": [
            "My personal info are all here\n",
            "My name is Johndel\n",
            "My age is 18\n",
            "My birtdate is August 02,2004\n"
          ]
        }
      ]
    },
    {
      "cell_type": "code",
      "source": [
        "#Exercise 1\n",
        "# Write a Python Program that:\n",
        "# Use Shape as a parent class, Rectangle as child with length and width attributes\n",
        "# Use Perimeter() and Area() as methods to compute for the perimeter and area of the rectagle"
      ],
      "metadata": {
        "id": "kUZRwX8yEVRf"
      },
      "execution_count": null,
      "outputs": []
    },
    {
      "cell_type": "code",
      "source": [
        "class Shape:\n",
        "  def __init__(self, Area, Perimeter):\n",
        "    self.Area = Area\n",
        "    self.Perimeter = Perimeter\n",
        "  \n",
        "\n",
        "\n",
        "class Rectangle(Shape):\n",
        "  def __init__(self, length, width):\n",
        "    self.length = length\n",
        "    self.width = width\n",
        "  \n",
        "\n",
        "  def Area(self):\n",
        "    return (self.length*self.width)\n",
        "\n",
        "  def Perimeter(self):\n",
        "    return (2*self.length + 2*self.width)\n",
        "\n",
        "l = int (input(\"Length of the Rectangle: \"))\n",
        "w = int (input(\"Width of the Rectangle: \" ))\n",
        "\n",
        "rectangle = Rectangle(l, w)\n",
        "\n",
        "print(\"The Area of the Rectangle is\", rectangle.Area())\n",
        "print(\"The Perimeter of the Rectangle is\", rectangle.Perimeter())"
      ],
      "metadata": {
        "colab": {
          "base_uri": "https://localhost:8080/"
        },
        "id": "C2HVBoGstWUu",
        "outputId": "97bebb3c-9b12-4159-97a8-754a823d0180"
      },
      "execution_count": 19,
      "outputs": [
        {
          "output_type": "stream",
          "name": "stdout",
          "text": [
            "Length of the Rectangle: 5\n",
            "Width of the Rectangle: 3\n",
            "The Area of the Rectangle is 15\n",
            "The Perimeter of the Rectangle is 16\n"
          ]
        }
      ]
    },
    {
      "cell_type": "code",
      "source": [
        "class Shape:\n",
        "  def __init__(self, length, width):\n",
        "    self.length = length\n",
        "    self.width = width\n",
        "\n",
        "\n",
        "class Rectangle(Shape):\n",
        "  pass\n",
        "  \n",
        "  \n",
        "\n",
        "  def Area(self):\n",
        "    return (self.length*self.width)\n",
        "\n",
        "  def Perimeter(self):\n",
        "    return (2*self.length + 2*self.width)\n",
        "\n",
        "l = int (input(\"Length of the Rectangle: \"))\n",
        "w = int (input(\"Width of the Rectangle: \" ))\n",
        "\n",
        "rectangle = Rectangle(l, w)\n",
        "\n",
        "print(\"The Area of the Rectangle is\", rectangle.Area())\n",
        "print(\"The Perimeter of the Rectangle is\", rectangle.Perimeter())"
      ],
      "metadata": {
        "colab": {
          "base_uri": "https://localhost:8080/"
        },
        "id": "lV9QJHFi0pBs",
        "outputId": "533183a0-d450-4371-c3f2-fa6c2973bc6e"
      },
      "execution_count": 18,
      "outputs": [
        {
          "output_type": "stream",
          "name": "stdout",
          "text": [
            "Length of the Rectangle: 5\n",
            "Width of the Rectangle: 3\n",
            "The Area of the Rectangle is 15\n",
            "The Perimeter of the Rectangle is 16\n"
          ]
        }
      ]
    }
  ]
}